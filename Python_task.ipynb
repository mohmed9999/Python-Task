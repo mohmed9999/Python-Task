{
 "cells": [
  {
   "cell_type": "code",
   "execution_count": 29,
   "id": "a6540ee7-aa59-4d96-a579-08a8ba90e7b6",
   "metadata": {},
   "outputs": [
    {
     "name": "stdin",
     "output_type": "stream",
     "text": [
      "Please Select Person Type (Teacher / Student):  teacher\n",
      "Insert Name:  mohamed\n",
      "Insert ID:  1\n",
      "Insert Phone:  012239586854\n",
      "Insert Email:  mod@gmail.com\n",
      "Insert Location:  alexadnria\n",
      "Insert Subjects (ex: Arabic,English,French,...):  arabic\n",
      "Insert Salary:  ss\n"
     ]
    },
    {
     "name": "stdout",
     "output_type": "stream",
     "text": [
      "Incorrect Salary Please insert valid Salary\n"
     ]
    },
    {
     "name": "stdin",
     "output_type": "stream",
     "text": [
      "Insert Salary:  1000\n"
     ]
    },
    {
     "name": "stdout",
     "output_type": "stream",
     "text": [
      "\n",
      "--------------------------------------------------------------\n",
      "\n",
      "        Name          : mohamed\n",
      "        ID            : 1\n",
      "        Type          : Teacher\n",
      "        Phone         : 012239586854\n",
      "\n",
      "        Email         : mod@gmail.com\n",
      "        Location      : alexadnria\n",
      "        Salary        : 1000\n",
      "        Subjects      : arabic\n",
      "End of the Process\n",
      "-------------------------------------------------------------\n"
     ]
    },
    {
     "name": "stdin",
     "output_type": "stream",
     "text": [
      "Do you want to search of member press (y):  no\n",
      "Do you want to add new  ( y / n ) y\n",
      "Please Select Person Type (Teacher / Student):  student\n",
      "Insert Name:  sayed\n",
      "Insert ID:  20\n",
      "Insert Phone:  01024025527\n",
      "Insert Email:  say@gmail.com\n",
      "Insert Location:  alexandria\n",
      "Insert fees:  ss\n"
     ]
    },
    {
     "name": "stdout",
     "output_type": "stream",
     "text": [
      "Invalid Fees ReEnter Fees please\n"
     ]
    },
    {
     "name": "stdin",
     "output_type": "stream",
     "text": [
      "Insert fees:  50\n",
      "Insert grade:  2\n",
      "if you want to add subjects and grades press type \"yes\":  yes\n",
      "Type Subject name:  sql\n",
      "Enter grade:  85\n",
      "if you want to add subjects and grades press type \"yes\":  yes\n",
      "Type Subject name:  python\n",
      "Enter grade:  98\n",
      "if you want to add subjects and grades press type \"yes\":  yes\n",
      "Type Subject name:  c++\n",
      "Enter grade:  10\n",
      "if you want to add subjects and grades press type \"yes\":  no\n"
     ]
    },
    {
     "name": "stdout",
     "output_type": "stream",
     "text": [
      "adding student to system---------\n",
      " -----------------------------------------\n",
      "\n",
      "Name          : sayed\n",
      "ID            : 20\n",
      "Type          : Student\n",
      "Phone         : 01024025527\n",
      "Email         : say@gmail.com\n",
      "Location      : alexandria\n",
      "Tuition fees  : 50\n",
      "grade      : 2\n"
     ]
    },
    {
     "name": "stdin",
     "output_type": "stream",
     "text": [
      "if you want to modify subjects and grades press type \"yes\":  yes\n",
      "Type Subject name:  c++\n",
      "Enter grade:  93\n"
     ]
    },
    {
     "name": "stdout",
     "output_type": "stream",
     "text": [
      "Subject updated\n"
     ]
    },
    {
     "name": "stdin",
     "output_type": "stream",
     "text": [
      "if you want to modify subjects and grades press type \"yes\":  no\n"
     ]
    },
    {
     "name": "stdout",
     "output_type": "stream",
     "text": [
      "Your Percentage: 92.0\n",
      "\n",
      "sql grade is 85.0 , B , 85.0\n",
      "python grade is 98.0 , A , 85.0\n",
      "c++ grade is 93.0 , A , 85.0\n",
      "End of the Process\n",
      "-------------------------------------------------------------\n"
     ]
    },
    {
     "name": "stdin",
     "output_type": "stream",
     "text": [
      "Do you want to search of member press (y):  no\n",
      "Do you want to add new  ( y / n ) y\n",
      "Please Select Person Type (Teacher / Student):  student\n",
      "Insert Name:  youssef\n",
      "Insert ID:  25\n",
      "Insert Phone:  01025658287\n",
      "Insert Email:  yous@gmail.com\n",
      "Insert Location:  kafr\n",
      "Insert fees:  sa\n"
     ]
    },
    {
     "name": "stdout",
     "output_type": "stream",
     "text": [
      "Invalid Fees ReEnter Fees please\n"
     ]
    },
    {
     "name": "stdin",
     "output_type": "stream",
     "text": [
      "Insert fees:  100\n",
      "Insert grade:  s\n"
     ]
    },
    {
     "name": "stdout",
     "output_type": "stream",
     "text": [
      "Invalid grade\n"
     ]
    },
    {
     "name": "stdin",
     "output_type": "stream",
     "text": [
      "Insert grade:  1\n",
      "if you want to add subjects and grades press type \"yes\":  yes\n",
      "Type Subject name:  python\n",
      "Enter grade:  30\n",
      "if you want to add subjects and grades press type \"yes\":  yes\n",
      "Type Subject name:  arabic\n",
      "Enter grade:  80\n",
      "if you want to add subjects and grades press type \"yes\":  no\n"
     ]
    },
    {
     "name": "stdout",
     "output_type": "stream",
     "text": [
      "adding student to system---------\n",
      " -----------------------------------------\n",
      "\n",
      "Name          : youssef\n",
      "ID            : 25\n",
      "Type          : Student\n",
      "Phone         : 01025658287\n",
      "Email         : yous@gmail.com\n",
      "Location      : kafr\n",
      "Tuition fees  : 100\n",
      "grade      : 1\n"
     ]
    },
    {
     "name": "stdin",
     "output_type": "stream",
     "text": [
      "if you want to modify subjects and grades press type \"yes\":  no\n"
     ]
    },
    {
     "name": "stdout",
     "output_type": "stream",
     "text": [
      "Your Percentage: 55.0\n",
      "\n",
      "python grade is F , 30.0\n",
      "arabic grade is 80.0 , B , 80.0\n",
      "End of the Process\n",
      "-------------------------------------------------------------\n"
     ]
    },
    {
     "name": "stdin",
     "output_type": "stream",
     "text": [
      "Do you want to search of member press (y):  y\n",
      "Type id of the member: 25\n"
     ]
    },
    {
     "name": "stdout",
     "output_type": "stream",
     "text": [
      "member not found\n",
      "member not found\n",
      "member not found\n",
      "Name          : youssef\n",
      "ID            : 25\n",
      "Type          : Student\n",
      "Phone         : 01025658287\n",
      "Email         : yous@gmail.com\n",
      "Location      : kafr\n",
      "Tuition fees  : 100\n",
      "grade      : 1\n",
      "{'python': 30.0, 'arabic': 80.0}\n",
      "Percentage: 55.0\n",
      "python grade is F , 30.0\n",
      "arabic grade is 80.0 , B , 80.0\n"
     ]
    },
    {
     "name": "stdin",
     "output_type": "stream",
     "text": [
      "Do you want to search of member press (y):  y\n",
      "Type id of the member: 20\n"
     ]
    },
    {
     "name": "stdout",
     "output_type": "stream",
     "text": [
      "member not found\n",
      "Name          : sayed\n",
      "ID            : 20\n",
      "Type          : Student\n",
      "Phone         : 01024025527\n",
      "Email         : say@gmail.com\n",
      "Location      : alexandria\n",
      "Tuition fees  : 50\n",
      "grade      : 2\n",
      "{'sql': 85.0, 'python': 98.0, 'c++': 93.0}\n",
      "Percentage: 92.0\n",
      "sql grade is 85.0 , B , 85.0\n",
      "python grade is 98.0 , A , 85.0\n",
      "c++ grade is 93.0 , A , 85.0\n"
     ]
    },
    {
     "name": "stdin",
     "output_type": "stream",
     "text": [
      "Do you want to search of member press (y):  y\n",
      "Type id of the member: 1\n"
     ]
    },
    {
     "name": "stdout",
     "output_type": "stream",
     "text": [
      "Name          : mohamed\n",
      "ID            : 1\n",
      "Type          : Teacher\n",
      "Phone         : 012239586854\n",
      "Email         : mod@gmail.com\n",
      "Location      : alexadnria\n",
      "Salary        : 1000\n",
      "Subjects      : arabic\n"
     ]
    },
    {
     "name": "stdin",
     "output_type": "stream",
     "text": [
      "Do you want to search of member press (y):  y\n",
      "Type id of the member: 6\n"
     ]
    },
    {
     "name": "stdout",
     "output_type": "stream",
     "text": [
      "member not found\n",
      "member not found\n",
      "member not found\n",
      "member not found\n",
      "member not found\n"
     ]
    },
    {
     "name": "stdin",
     "output_type": "stream",
     "text": [
      "Do you want to search of member press (y):  n\n",
      "Do you want to add new  ( y / n ) n\n"
     ]
    }
   ],
   "source": [
    "class People:\n",
    "    instances=[]\n",
    "    def __init__(self,name=None, id=None, phone=None, email=None, location=None):\n",
    "        self.name=name\n",
    "        self.id=id\n",
    "        self.phone=phone\n",
    "        self.email=email\n",
    "        self.location=location\n",
    "        try:\n",
    "            if self.id:\n",
    "                self.__class__.instances.append(self)\n",
    "        except:\n",
    "            pass\n",
    "class Student(People):\n",
    "    def __init__(self, name=None, id=None, phone=None, email=None, location=None, tuition_fees=None, grade=None):\n",
    "        super().__init__(name, id, phone, email, location)\n",
    "        self.tuition_fees=tuition_fees\n",
    "        self.grade=grade\n",
    "        self.std_grade={}\n",
    "        print(f'''Name          : {self.name}\n",
    "ID            : {self.id}\n",
    "Type          : Student\n",
    "Phone         : {self.phone}\n",
    "Email         : {self.email}\n",
    "Location      : {self.location}\n",
    "Tuition fees  : {self.tuition_fees}\n",
    "grade      : {self.grade}''')\n",
    "    #add method\n",
    "    add=lambda self,sub_grade:self.std_grade.update(sub_grade)\n",
    "    #modify method\n",
    "    modify=lambda self,sub_grade:self.std_grade.update(sub_grade)    \n",
    "    #total result method\n",
    "    def calc_result(self):\n",
    "        total=sum(self.std_grade.values())\n",
    "        length=len(self.std_grade)\n",
    "        percentage=total/length\n",
    "        return percentage\n",
    "    #subject grade check \n",
    "    def sub_check(self):\n",
    "        list1=['A','B','C','D']\n",
    "        for sub in self.std_grade: \n",
    "            g='F'\n",
    "            for grad in range(len(list1)):\n",
    "                if self.std_grade[sub] >= (100-(grad+1)*10):\n",
    "                    g= \"{} , \".format(self.std_grade[sub])+str(list1[grad])\n",
    "                    break\n",
    "                global std\n",
    "                std= self.std_grade[sub]\n",
    "            print('{} grade is {} , {}'.format(sub,g,std))\n",
    "    def __str__(self):\n",
    "      return f'''Name          : {self.name}\n",
    "ID            : {self.id}\n",
    "Type          : Student\n",
    "Phone         : {self.phone}\n",
    "Email         : {self.email}\n",
    "Location      : {self.location}\n",
    "Tuition fees  : {self.tuition_fees}\n",
    "grade      : {self.grade}'''\n",
    "class Teacher(People):\n",
    "     def __init__(self,name=None, id=None, phone=None, email=None, location=None, subjects=None, salary=None):\n",
    "        super().__init__(name, id, phone, email, location)\n",
    "        self.subject=subject\n",
    "        self.salary=salary\n",
    "        print('''        Name          : {}\n",
    "        ID            : {}\n",
    "        Type          : Teacher\n",
    "        Phone         : {}\\n\n",
    "        Email         : {}\n",
    "        Location      : {}\n",
    "        Salary        : {}\n",
    "        Subjects      : {}'''.format(self.name,self.id,self.phone,self.email,self.location,self.salary,self.subject))\n",
    "     def __str__(self):\n",
    "       return f'''Name          : {self.name}\n",
    "ID            : {self.id}\n",
    "Type          : Teacher\n",
    "Phone         : {self.phone}\n",
    "Email         : {self.email}\n",
    "Location      : {self.location}\n",
    "Salary        : {self.salary}\n",
    "Subjects      : {self.subject}'''\n",
    "def find(iq):\n",
    "    for i in People.instances:\n",
    "        if iq == i.id:\n",
    "            print(i)\n",
    "            if isinstance(i,Student):\n",
    "                print(i.std_grade)\n",
    "                print('Percentage: {}'.format(i.calc_result()))\n",
    "                i.sub_check()\n",
    "            break\n",
    "        print('member not found')\n",
    "while True:\n",
    "    while True:\n",
    "        user=input('Please Select Person Type (Teacher / Student): ')\n",
    "        if user.lower() in ['teacher','student']:\n",
    "            break\n",
    "        else:\n",
    "            print('Incorrect Type please choose from (Teacher / Student)')\n",
    "    name=input('Insert Name: ')\n",
    "    id=input('Insert ID: ')\n",
    "    phone=input('Insert Phone: ')\n",
    "    email=input('Insert Email: ')\n",
    "    location=input('Insert Location: ')\n",
    "    if user.lower() == 'teacher':\n",
    "        subject = input('Insert Subjects (ex: Arabic,English,French,...): ')\n",
    "        while True:\n",
    "            try:\n",
    "                salary = int(input('Insert Salary: '))\n",
    "                break\n",
    "            except:\n",
    "                print('Incorrect Salary Please insert valid Salary')\n",
    "        print('\\n--------------------------------------------------------------\\n')\n",
    "        Teacher(name, id, phone, email, location, subject, salary)\n",
    "    elif user.lower() =='student':\n",
    "        while True:\n",
    "            try:\n",
    "                tuition_fees=int(input('Insert fees: '))\n",
    "                break\n",
    "            except:\n",
    "                print('Invalid Fees ReEnter Fees please')\n",
    "        while True:\n",
    "            try:\n",
    "                grade=int(input('Insert grade: '))\n",
    "                break\n",
    "            except:\n",
    "                print('Invalid grade')\n",
    "        sub_grade={}\n",
    "        while input('if you want to add subjects and grades press type \"yes\": ').lower()==\"yes\":\n",
    "            sub=input('Type Subject name: ')\n",
    "            gr=float(input('Enter grade: '))\n",
    "            sub_grade.update({sub:gr})\n",
    "            \n",
    "        print('adding student to system---------\\n -----------------------------------------\\n')\n",
    "        x=Student(name,id,phone,email,location,tuition_fees,grade)\n",
    "        x.add(sub_grade)\n",
    "        while input('if you want to modify subjects and grades press type \"yes\": ').lower()==\"yes\":\n",
    "            sub=input('Type Subject name: ')\n",
    "            gr=float(input('Enter grade: '))\n",
    "            sub_grade.update({sub:gr})\n",
    "            x.modify(sub_grade)\n",
    "            print('Subject updated')\n",
    "        People.instances.append(x)\n",
    "        print('Your Percentage: {}\\n'.format(x.calc_result()))\n",
    "        x.sub_check()\n",
    "    print('End of the Process\\n-------------------------------------------------------------')\n",
    "    boolea=True\n",
    "    while input('Do you want to search of member press (y): ')=='y':\n",
    "        a=input('Type id of the member:')\n",
    "        find(a)\n",
    "    if input('Do you want to add new  ( y / n )').lower()=='y':\n",
    "        continue\n",
    "    else:\n",
    "        break"
   ]
  }
 ],
 "metadata": {
  "kernelspec": {
   "display_name": "Python 3 (ipykernel)",
   "language": "python",
   "name": "python3"
  },
  "language_info": {
   "codemirror_mode": {
    "name": "ipython",
    "version": 3
   },
   "file_extension": ".py",
   "mimetype": "text/x-python",
   "name": "python",
   "nbconvert_exporter": "python",
   "pygments_lexer": "ipython3",
   "version": "3.9.12"
  }
 },
 "nbformat": 4,
 "nbformat_minor": 5
}
